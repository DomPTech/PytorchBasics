{
 "cells": [
  {
   "cell_type": "code",
   "execution_count": 9,
   "id": "7645be2c-c35f-4d5e-889a-221dde978280",
   "metadata": {},
   "outputs": [],
   "source": [
    "# This is where the AI framework (PyTorch) is imported.\n",
    "import torch \n",
    "# This is the neural network framework.\n",
    "import torch.nn as nn\n",
    "# This is the optimizer framework.\n",
    "import torch.optim as optim"
   ]
  },
  {
   "cell_type": "code",
   "execution_count": 10,
   "id": "9c8edd55-82ce-4577-924b-7fe5733efcc6",
   "metadata": {},
   "outputs": [],
   "source": [
    "# These are some other helpful libraries that I imported.\n",
    "\n",
    "# Numpy is a really useful Python math library.\n",
    "import numpy as np\n",
    "# Matplotlib is used to make graphs.\n",
    "import matplotlib.pyplot as plt\n",
    "# Random is used for random number generation. (We could use it for noise)\n",
    "import random\n",
    "\n",
    "# The \"import as\" means that you're importing the library and giving it whatever name you want.\n",
    "# For example, I wrote \"import numpy as np\", meaning that I can reference the numpy library as \"np\" now."
   ]
  },
  {
   "cell_type": "code",
   "execution_count": 11,
   "id": "b897b71d-f713-4342-bdec-52cfd0762182",
   "metadata": {},
   "outputs": [],
   "source": [
    "# Here I created the data.\n",
    "\n",
    "# np.arange() takes a start, end, step, and datatype (don't worry about that too much, I just used float32).\n",
    "# np.arange() gives us an array (list) of all of the values between the start and the end, going one step at a time.\n",
    "x_values = np.arange(1, 10, 0.1, np.float32)\n",
    "\n",
    "# The y_values (outputs) are just the x_values (inputs) multiplied by 2. \n",
    "# You can put more stuff here, like noise using random.randragne.\n",
    "y_values = 2 * x_values\n",
    "\n",
    "# This is data that we'll use to train the actual model. PyTorch models take a specific type of input data called Tensors.\n",
    "# Tensors are multi-dimensional arrays (it can represent all sorts of data, like single numbers or whole matrices).\n",
    "\n",
    "# torch.from_numpy creates a Tensor from the provided array.\n",
    "# reshape changes the dimensions of the tensor (-1 for the rows means don't change the number of rows, and 1 means put it in a single column).\n",
    "x_train = torch.from_numpy(x_values).reshape(-1, 1)\n",
    "y_train = torch.from_numpy(y_values).reshape(-1, 1)"
   ]
  },
  {
   "cell_type": "code",
   "execution_count": 12,
   "id": "1629d2fd-7f43-408b-8c65-b3d771df4c03",
   "metadata": {},
   "outputs": [],
   "source": [
    "# Here we create the Linear Regression model class. It inherits the nn.Module,.which is a fundamental building block for all of the neural network classes.\n",
    "class LinearRegressionModel(nn.Module):\n",
    "    # Init (short for initialize) is a function that determines what the class does when it is first created.\n",
    "    # Self refers to the class object itself.\n",
    "    def __init__(self):\n",
    "        # Super.init() calls the parent class's init.\n",
    "        super(LinearRegressionModel, self).__init__()\n",
    "        # We use a linear transofrmation here, and we only have one input and one output. \n",
    "        self.linear = torch.nn.Linear(1, 1)\n",
    "\n",
    "    # This defines the forward pass (how input data is processed through the layers to generate an output)\n",
    "    # Here we just have a simple linear layer.\n",
    "    def forward(self, x):\n",
    "        y_pred = self.linear(x)\n",
    "        return y_pred"
   ]
  },
  {
   "cell_type": "code",
   "execution_count": 13,
   "id": "91296426-8046-4e74-b5f4-ef7f0086ca30",
   "metadata": {},
   "outputs": [],
   "source": [
    "# We initialize the model here for use. This is an object that will be stored in memory.\n",
    "model = LinearRegressionModel()\n",
    "\n",
    "# Here I use the mean squared error (MSE) as the loss function\n",
    "criterion = nn.MSELoss(reduction=\"mean\")\n",
    "# And stochastic gradient descent (SGD) is used as the optimizer\n",
    "# LR specifies the learning rate of the model.\n",
    "optimizer = torch.optim.SGD(model.parameters(), lr = 0.01)"
   ]
  },
  {
   "cell_type": "code",
   "execution_count": 16,
   "id": "810e6f13-5f6c-46b1-a8b5-f968316620c3",
   "metadata": {},
   "outputs": [
    {
     "name": "stdout",
     "output_type": "stream",
     "text": [
      "epoch 0, loss 0.000630976865068078\n",
      "epoch 100, loss 0.0003053966793231666\n",
      "epoch 200, loss 0.00014781286881770939\n",
      "epoch 300, loss 7.154453487601131e-05\n",
      "epoch 400, loss 3.462921449681744e-05\n",
      "predict (after training):  4 -> 8.003795623779297\n"
     ]
    }
   ],
   "source": [
    "# This will store a list of our loss data so we can graph it later.\n",
    "loss_data = []\n",
    "\n",
    "# We loop through 500 training sessions (epochs) here.\n",
    "for epoch in range(500):\n",
    "    # We generate a prediction from our x_data.\n",
    "    pred_y = model(x_train)\n",
    "\n",
    "    # We compare the prediction to the known y_data and calculate its MSE.\n",
    "    loss = criterion(pred_y, y_train)\n",
    "\n",
    "    # Normally, the optimizer accumulates the gradient, but we don't want that. This is like zeroing a scale (resetting the gradient to zero).\n",
    "    optimizer.zero_grad()\n",
    "    # We backpropogate (go back through the layers to find the source of the loss.)\n",
    "    loss.backward()\n",
    "    # Then we apply what we learned in the backpropogation to update the model with new weights.\n",
    "    optimizer.step()\n",
    "\n",
    "    # Here we just append loss data for graphing later.\n",
    "    loss_data.append(loss.item())\n",
    "\n",
    "    # Every hundreth epoch (the % means modulo, it gives the remainder), we print out the loss to see how our model is doing.\n",
    "    if epoch % 100 == 0:\n",
    "        print('epoch {}, loss {}'.format(epoch, loss.item()))\n",
    "\n",
    "# We create a new test input.\n",
    "new_var = torch.Tensor([[4.0]])\n",
    "# We generate a prediction for the test input with our newly trained model.\n",
    "pred_y = model(new_var)\n",
    "# We display our prediction.\n",
    "print(\"predict (after training): \", 4, \"->\", model(new_var).item())"
   ]
  },
  {
   "cell_type": "code",
   "execution_count": 15,
   "id": "ceb1ec0c-c13f-4972-932f-37d014e575b7",
   "metadata": {},
   "outputs": [
    {
     "data": {
      "text/plain": [
       "[<matplotlib.lines.Line2D at 0x7f446a425fd0>]"
      ]
     },
     "execution_count": 15,
     "metadata": {},
     "output_type": "execute_result"
    },
    {
     "data": {
      "image/png": "[encoded data removed]",
      "text/plain": [
       "<Figure size 640x480 with 1 Axes>"
      ]
     },
     "metadata": {},
     "output_type": "display_data"
    }
   ],
   "source": [
    "# Here we graph the loss data (should see a decreasing trend).\n",
    "plt.plot(loss_data)"
   ]
  }
 ],
 "metadata": {
  "kernelspec": {
   "display_name": "OLCF-base (ipykernel)",
   "language": "python",
   "name": "python3"
  },
  "language_info": {
   "codemirror_mode": {
    "name": "ipython",
    "version": 3
   },
   "file_extension": ".py",
   "mimetype": "text/x-python",
   "name": "python",
   "nbconvert_exporter": "python",
   "pygments_lexer": "ipython3",
   "version": "3.11.9"
  }
 },
 "nbformat": 4,
 "nbformat_minor": 5
}
