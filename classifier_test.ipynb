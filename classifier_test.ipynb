{
 "cells": [
  {
   "cell_type": "code",
   "execution_count": 70,
   "id": "a0c11063-b88a-4df1-b002-3c3919672fed",
   "metadata": {},
   "outputs": [],
   "source": [
    "# Import necessary modules\n",
    "import torch\n",
    "import torch.nn as nn\n",
    "import torch.optim as optim\n",
    "from torch.utils.data import Dataset, DataLoader\n",
    "\n",
    "import pandas as pd\n",
    "import numpy as np"
   ]
  },
  {
   "cell_type": "code",
   "execution_count": 71,
   "id": "b1aee91b-5acf-474d-b8d9-018ee443f2e2",
   "metadata": {},
   "outputs": [],
   "source": [
    "# Create a sample dataframe (in practice, you would load your own)\n",
    "data = {\n",
    "    'feature1': [0.1, 0.2, 0.3, 0.9, 1.0, 1.1],\n",
    "    'feature2': [1.2, 0.9, 1.1, 0.3, 0.2, 0.1],\n",
    "    'label':    [0, 1, 2, 0, 1, 2]\n",
    "}\n",
    "df = pd.DataFrame(data)"
   ]
  },
  {
   "cell_type": "code",
   "execution_count": 72,
   "id": "4c061e78-bb16-496a-b457-6e485829b967",
   "metadata": {},
   "outputs": [],
   "source": [
    "# This custom Dataset class turns the DataFrame into something PyTorch can use\n",
    "class MyDataset(Dataset):\n",
    "    def __init__(self, dataframe):\n",
    "        # What we're basing our prediction off of\n",
    "        features = dataframe[['feature1', 'feature2']].to_numpy().astype(np.float32)\n",
    "        # Our classifications\n",
    "        labels = dataframe['label'].to_numpy().astype(np.int64)\n",
    "        \n",
    "        self.X = torch.from_numpy(features)\n",
    "        self.y = torch.from_numpy(labels)\n",
    "\n",
    "    def __len__(self):\n",
    "        return len(self.X)\n",
    "\n",
    "    def __getitem__(self, idx):\n",
    "        return self.X[idx], self.y[idx]"
   ]
  },
  {
   "cell_type": "code",
   "execution_count": 73,
   "id": "1700c1d8-df41-41f5-aa85-ae985632045f",
   "metadata": {},
   "outputs": [],
   "source": [
    "# Define a very simple neural network model\n",
    "class MultiClassClassifier(nn.Module):\n",
    "    def __init__(self, input_size, num_classes):\n",
    "        super().__init__()\n",
    "        # 8 is the number of neurons\n",
    "        self.hidden = nn.Linear(input_size, 8)\n",
    "        # ReLU, short for Rectified Linear Unit, just does max(0, x)\n",
    "        # It helps the network learn non-linear patterns\n",
    "        self.relu = nn.ReLU()\n",
    "        self.output = nn.Linear(8, num_classes)\n",
    "\n",
    "    def forward(self, x):\n",
    "        x = self.hidden(x)\n",
    "        x = self.relu(x)\n",
    "        x = self.output(x)\n",
    "        return x"
   ]
  },
  {
   "cell_type": "code",
   "execution_count": 74,
   "id": "aee3f3a1-9718-4c15-b8e2-a9b2311ec4dd",
   "metadata": {},
   "outputs": [],
   "source": [
    "# Prepare data\n",
    "dataset = MyDataset(df)\n",
    "dataloader = DataLoader(dataset, batch_size=2, shuffle=True)\n",
    "\n",
    "# Initialize model, loss, and optimizer\n",
    "model = MultiClassClassifier(input_size=2, num_classes=3)\n",
    "# CrossEntropyLoss applies a softmax under the hood to turn logits (raw scores) into probabilities between 0 and 1.\n",
    "criterion = nn.CrossEntropyLoss()\n",
    "optimizer = optim.SGD(model.parameters(), lr=0.01)"
   ]
  },
  {
   "cell_type": "code",
   "execution_count": 75,
   "id": "b758f49c-eee4-49f2-bf67-4d08cfcdf48c",
   "metadata": {},
   "outputs": [
    {
     "name": "stdout",
     "output_type": "stream",
     "text": [
      "Epoch 1, Loss: 1.2499\n",
      "Epoch 2, Loss: 1.3106\n",
      "Epoch 3, Loss: 1.2231\n",
      "Epoch 4, Loss: 1.2403\n",
      "Epoch 5, Loss: 0.9271\n",
      "Epoch 6, Loss: 1.2480\n",
      "Epoch 7, Loss: 1.0940\n",
      "Epoch 8, Loss: 1.1814\n",
      "Epoch 9, Loss: 1.0747\n",
      "Epoch 10, Loss: 1.1700\n"
     ]
    }
   ],
   "source": [
    "# Training loop\n",
    "for epoch in range(10):\n",
    "    for inputs, labels in dataloader:\n",
    "        outputs = model(inputs)\n",
    "        loss = criterion(outputs, labels)\n",
    "\n",
    "        optimizer.zero_grad()\n",
    "        loss.backward()\n",
    "        optimizer.step()\n",
    "        \n",
    "    print(f\"Epoch {epoch+1}, Loss: {loss.item():.4f}\")"
   ]
  },
  {
   "cell_type": "code",
   "execution_count": 76,
   "id": "c0c4b471-5001-4389-a077-2abdb45b664b",
   "metadata": {},
   "outputs": [
    {
     "name": "stdout",
     "output_type": "stream",
     "text": [
      "Predicted Classification: 0\n"
     ]
    }
   ],
   "source": [
    "# Prediction\n",
    "with torch.no_grad():\n",
    "    sample = torch.tensor([[0.2, 1.0]], dtype=torch.float32)\n",
    "    # The raw \"scores\" for each classification are called logits\n",
    "    logits = model(sample)\n",
    "    # Argmax finds the index of the highest score\n",
    "    predicted_class = torch.argmax(logits, dim=1).item()\n",
    "    print(f\"Predicted Classification: {predicted_class}\")"
   ]
  },
  {
   "cell_type": "code",
   "execution_count": null,
   "id": "c3a788ea-247b-43f2-97c3-104269793a21",
   "metadata": {},
   "outputs": [],
   "source": []
  }
 ],
 "metadata": {
  "kernelspec": {
   "display_name": "OLCF-base (ipykernel)",
   "language": "python",
   "name": "python3"
  },
  "language_info": {
   "codemirror_mode": {
    "name": "ipython",
    "version": 3
   },
   "file_extension": ".py",
   "mimetype": "text/x-python",
   "name": "python",
   "nbconvert_exporter": "python",
   "pygments_lexer": "ipython3",
   "version": "3.11.9"
  }
 },
 "nbformat": 4,
 "nbformat_minor": 5
}
